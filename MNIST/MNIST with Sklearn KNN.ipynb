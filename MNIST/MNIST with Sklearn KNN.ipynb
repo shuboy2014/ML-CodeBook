{
 "cells": [
  {
   "cell_type": "code",
   "execution_count": 1,
   "metadata": {
    "collapsed": false
   },
   "outputs": [],
   "source": [
    "from sklearn.neighbors import KNeighborsClassifier\n",
    "import numpy as np\n",
    "import pandas as pd\n",
    "from matplotlib import pyplot as plt\n",
    "import time\n",
    "import warnings\n",
    "warnings.filterwarnings(\"ignore\")"
   ]
  },
  {
   "cell_type": "code",
   "execution_count": 2,
   "metadata": {
    "collapsed": false
   },
   "outputs": [
    {
     "name": "stdout",
     "output_type": "stream",
     "text": [
      "(42000, 785)\n"
     ]
    }
   ],
   "source": [
    "dataset = pd.read_csv('./train.csv')\n",
    "dataset.head(n=5)\n",
    "\n",
    "ds = np.asarray(dataset)\n",
    "print ds.shape"
   ]
  },
  {
   "cell_type": "code",
   "execution_count": 3,
   "metadata": {
    "collapsed": false
   },
   "outputs": [],
   "source": [
    "def train(k=5):\n",
    "    #train with first 20000 images\n",
    "    X_train = ds[:20000,1:]\n",
    "    Y_train = ds[:20000,0]\n",
    "    \n",
    "    clf = KNeighborsClassifier(n_neighbors=k)\n",
    "    clf.fit(X_train,Y_train)\n",
    "    return clf"
   ]
  },
  {
   "cell_type": "code",
   "execution_count": 4,
   "metadata": {
    "collapsed": false
   },
   "outputs": [],
   "source": [
    "def knn(k=5):\n",
    "    clf = train(k)\n",
    "\n",
    "    X_test = ds[20000:21000,1:]\n",
    "    Y_test = ds[20000:21000,0]\n",
    "\n",
    "    d = {\n",
    "        \"matches\" : 0,\n",
    "        \"mis-matches\" : 0,\n",
    "    }\n",
    "    \n",
    "    for ix in range(1000):\n",
    "        if clf.predict(X_test[ix]) == map(int,str(Y_test[ix].tolist())): d[\"matches\"]+=1\n",
    "        else: d[\"mis-matches\"]+=1\n",
    "    return d"
   ]
  },
  {
   "cell_type": "code",
   "execution_count": 9,
   "metadata": {
    "collapsed": false
   },
   "outputs": [
    {
     "name": "stdout",
     "output_type": "stream",
     "text": [
      "{'matches': 965, 'mis-matches': 35}\n"
     ]
    }
   ],
   "source": [
    "# test at k=3\n",
    "res = knn(3)\n",
    "print res"
   ]
  },
  {
   "cell_type": "code",
   "execution_count": 5,
   "metadata": {
    "collapsed": false
   },
   "outputs": [
    {
     "name": "stdout",
     "output_type": "stream",
     "text": [
      "{'matches': 961, 'mis-matches': 39}\n"
     ]
    }
   ],
   "source": [
    "# test at k=5\n",
    "res = knn(5)\n",
    "print res"
   ]
  },
  {
   "cell_type": "code",
   "execution_count": 6,
   "metadata": {
    "collapsed": false
   },
   "outputs": [
    {
     "name": "stdout",
     "output_type": "stream",
     "text": [
      "{'matches': 958, 'mis-matches': 42}\n"
     ]
    }
   ],
   "source": [
    "# test at k=7\n",
    "res = knn(7)\n",
    "print res"
   ]
  },
  {
   "cell_type": "code",
   "execution_count": 7,
   "metadata": {
    "collapsed": false
   },
   "outputs": [
    {
     "name": "stdout",
     "output_type": "stream",
     "text": [
      "{'matches': 955, 'mis-matches': 45}\n"
     ]
    }
   ],
   "source": [
    "# test at k=9\n",
    "res = knn(9)\n",
    "print res"
   ]
  },
  {
   "cell_type": "code",
   "execution_count": 8,
   "metadata": {
    "collapsed": false
   },
   "outputs": [
    {
     "name": "stdout",
     "output_type": "stream",
     "text": [
      "{'matches': 954, 'mis-matches': 46}\n"
     ]
    }
   ],
   "source": [
    "# test at k=11\n",
    "res = knn(11)\n",
    "print res"
   ]
  }
 ],
 "metadata": {
  "anaconda-cloud": {},
  "kernelspec": {
   "display_name": "Python [conda root]",
   "language": "python",
   "name": "conda-root-py"
  },
  "language_info": {
   "codemirror_mode": {
    "name": "ipython",
    "version": 2
   },
   "file_extension": ".py",
   "mimetype": "text/x-python",
   "name": "python",
   "nbconvert_exporter": "python",
   "pygments_lexer": "ipython2",
   "version": "2.7.12"
  }
 },
 "nbformat": 4,
 "nbformat_minor": 1
}
