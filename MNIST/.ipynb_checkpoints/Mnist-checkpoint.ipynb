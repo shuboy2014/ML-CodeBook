{
 "cells": [
  {
   "cell_type": "code",
   "execution_count": null,
   "metadata": {
    "collapsed": true
   },
   "outputs": [],
   "source": [
    "import numpy as np\n",
    "import pandas as pd\n",
    "import time\n",
    "from matplotlib import pyplot as plt\n",
    "%matplotlib inline"
   ]
  },
  {
   "cell_type": "code",
   "execution_count": null,
   "metadata": {
    "collapsed": false
   },
   "outputs": [],
   "source": [
    "ds = pd.read_csv('./train.csv')\n",
    "ds = np.asarray(ds)\n",
    "\n",
    "#train with first 20000 data\n",
    "x_train = ds[:20000,1:]\n",
    "y_train = ds[:20000, 0]"
   ]
  },
  {
   "cell_type": "code",
   "execution_count": null,
   "metadata": {
    "collapsed": false
   },
   "outputs": [],
   "source": [
    "def dist(x1,x2):\n",
    "    return np.sqrt(((x1-x2)**2).sum())\n",
    "\n",
    "def knn(x_train,y_train,query,k=5):\n",
    "    dist_val = []\n",
    "    for ix in range(x_train.shape[0]):\n",
    "        dist_val.append([dist(query,x_train[ix,:]),y_train[ix]])\n",
    "    \n",
    "    sorted_dist = sorted(dist_val, key=lambda x:x[0])\n",
    "    np_sorted_dist = np.asarray(sorted_dist[:k])\n",
    "    return np.unique(np_sorted_dist[:,1],return_counts=True)"
   ]
  },
  {
   "cell_type": "code",
   "execution_count": null,
   "metadata": {
    "collapsed": false,
    "scrolled": true
   },
   "outputs": [],
   "source": [
    "result = {\n",
    "    \"matches\":0,\n",
    "    \"mis-matches\":0, \n",
    "}\n",
    "\n",
    "start = time.time()\n",
    "# test with only 10000 rows of dataset\n",
    "for ix in range(20000,20010):\n",
    "    query = ds[ix,1:]\n",
    "    label = ds[ix,0]\n",
    "    res = knn(x_train,y_train,query,5)\n",
    "    res_num = res[0][res[1].argmax()]\n",
    "    if float(label) == res_num: result[\"matches\"]+=1\n",
    "    else:\n",
    "        print \"Mis Match found\" , ix\n",
    "        result[\"mis-matches\"]+=1\n",
    "print \"Time Taken:\", time.time()-start\n",
    "print result"
   ]
  },
  {
   "cell_type": "code",
   "execution_count": null,
   "metadata": {
    "collapsed": true
   },
   "outputs": [],
   "source": []
  }
 ],
 "metadata": {
  "anaconda-cloud": {},
  "kernelspec": {
   "display_name": "Python [conda root]",
   "language": "python",
   "name": "conda-root-py"
  },
  "language_info": {
   "codemirror_mode": {
    "name": "ipython",
    "version": 2
   },
   "file_extension": ".py",
   "mimetype": "text/x-python",
   "name": "python",
   "nbconvert_exporter": "python",
   "pygments_lexer": "ipython2",
   "version": "2.7.12"
  }
 },
 "nbformat": 4,
 "nbformat_minor": 1
}
