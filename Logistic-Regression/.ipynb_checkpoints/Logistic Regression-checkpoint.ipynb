{
 "cells": [
  {
   "cell_type": "code",
   "execution_count": 1,
   "metadata": {
    "collapsed": true
   },
   "outputs": [],
   "source": [
    "import numpy as np\n",
    "import matplotlib.pyplot as plt\n",
    "%matplotlib inline"
   ]
  },
  {
   "cell_type": "code",
   "execution_count": 16,
   "metadata": {
    "collapsed": false
   },
   "outputs": [
    {
     "name": "stdout",
     "output_type": "stream",
     "text": [
      "(300, 2)\n",
      "(300, 2)\n"
     ]
    }
   ],
   "source": [
    "mean_01 = [3.0,4.0]\n",
    "cov_01 = [[1.0,0.0],[0.0,1]]\n",
    "\n",
    "mean_02 = [-1.0,-2.0]\n",
    "cov_02 = [[1.0,0.0],[0.0,1]]\n",
    "\n",
    "dist_01 = np.random.multivariate_normal(mean_01,cov_01,300)\n",
    "dist_02 = np.random.multivariate_normal(mean_02,cov_02,300)\n",
    "\n",
    "print dist_01.shape\n",
    "print dist_02.shape"
   ]
  },
  {
   "cell_type": "code",
   "execution_count": 17,
   "metadata": {
    "collapsed": false
   },
   "outputs": [
    {
     "data": {
      "image/png": "[encoded data removed]",
      "text/plain": [
       "<matplotlib.figure.Figure at 0x7f750ac6ce90>"
      ]
     },
     "metadata": {},
     "output_type": "display_data"
    }
   ],
   "source": [
    "plt.figure(0)\n",
    "plt.scatter(dist_01[:,0],dist_01[:,1],c='red')\n",
    "plt.scatter(dist_02[:,0],dist_02[:,1],c='blue')\n",
    "plt.show()"
   ]
  },
  {
   "cell_type": "code",
   "execution_count": 21,
   "metadata": {
    "collapsed": false
   },
   "outputs": [
    {
     "name": "stdout",
     "output_type": "stream",
     "text": [
      "(600, 2)\n"
     ]
    }
   ],
   "source": [
    "data = np.zeros((dist_01.shape[0] + dist_02.shape[0],dist_01.shape[1]))\n",
    "data[:dist_01.shape[0]] = dist_01\n",
    "data[dist_02.shape[0]:] = dist_02\n",
    "print data.shape"
   ]
  },
  {
   "cell_type": "code",
   "execution_count": 23,
   "metadata": {
    "collapsed": false
   },
   "outputs": [
    {
     "name": "stdout",
     "output_type": "stream",
     "text": [
      "(450,) (450,)\n",
      "(150,) (150,)\n"
     ]
    }
   ],
   "source": [
    "split = int(0.75*data.shape[0])\n",
    "\n",
    "X_train = data[:split,0]\n",
    "Y_train = data[:split,1]\n",
    "X_test = data[split:,0]\n",
    "Y_test = data[split:,1]\n",
    "\n",
    "print X_train.shape,Y_train.shape\n",
    "print X_test.shape,Y_test.shape"
   ]
  },
  {
   "cell_type": "code",
   "execution_count": null,
   "metadata": {
    "collapsed": true
   },
   "outputs": [],
   "source": []
  }
 ],
 "metadata": {
  "kernelspec": {
   "display_name": "Python 2",
   "language": "python",
   "name": "python2"
  },
  "language_info": {
   "codemirror_mode": {
    "name": "ipython",
    "version": 2
   },
   "file_extension": ".py",
   "mimetype": "text/x-python",
   "name": "python",
   "nbconvert_exporter": "python",
   "pygments_lexer": "ipython2",
   "version": "2.7.13"
  }
 },
 "nbformat": 4,
 "nbformat_minor": 2
}
