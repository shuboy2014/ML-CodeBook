{
 "cells": [
  {
   "cell_type": "code",
   "execution_count": 130,
   "metadata": {
    "collapsed": true
   },
   "outputs": [],
   "source": [
    "import numpy as np\n",
    "import matplotlib.pyplot as plt\n",
    "%matplotlib inline"
   ]
  },
  {
   "cell_type": "code",
   "execution_count": 188,
   "metadata": {
    "collapsed": false
   },
   "outputs": [
    {
     "name": "stdout",
     "output_type": "stream",
     "text": [
      "(250, 2)\n",
      "(250, 2)\n"
     ]
    }
   ],
   "source": [
    "mean_01 = np.array([1.5, 4.0])\n",
    "mean_02 = np.array([-1.0, -1.0])\n",
    "\n",
    "cov_01 = np.array([[1.0, 0.0], [0.0, 1.0]])\n",
    "cov_02 = np.array([[0.9, 0.3], [0.3, 0.9]])\n",
    "\n",
    "dist_01 = np.random.multivariate_normal(mean_01, cov_01, 250)\n",
    "dist_02 = np.random.multivariate_normal(mean_02, cov_02, 250)\n",
    "\n",
    "print dist_01.shape\n",
    "print dist_02.shape"
   ]
  },
  {
   "cell_type": "code",
   "execution_count": 189,
   "metadata": {
    "collapsed": false
   },
   "outputs": [
    {
     "data": {
      "image/png": "[encoded data removed]",
      "text/plain": [
       "<matplotlib.figure.Figure at 0x7fb9f9078310>"
      ]
     },
     "metadata": {},
     "output_type": "display_data"
    }
   ],
   "source": [
    "plt.figure(0)\n",
    "plt.scatter(dist_01[:,0],dist_01[:,1],c='red')\n",
    "plt.scatter(dist_02[:,0],dist_02[:,1],c='blue')\n",
    "plt.show()"
   ]
  },
  {
   "cell_type": "code",
   "execution_count": 190,
   "metadata": {
    "collapsed": false
   },
   "outputs": [
    {
     "name": "stdout",
     "output_type": "stream",
     "text": [
      "(500, 3)\n"
     ]
    }
   ],
   "source": [
    "data = np.zeros((dist_01.shape[0] + dist_02.shape[0],dist_01.shape[1]+1))\n",
    "data[:dist_01.shape[0],:dist_01.shape[1]] = dist_01\n",
    "# 1 for red\n",
    "data[:dist_01.shape[0],-1] = 1\n",
    "# 0 for blue\n",
    "data[dist_02.shape[0]:,:dist_02.shape[1]] = dist_02\n",
    "\n",
    "np.random.shuffle(data)\n",
    "\n",
    "print data.shape"
   ]
  },
  {
   "cell_type": "code",
   "execution_count": 191,
   "metadata": {
    "collapsed": false
   },
   "outputs": [
    {
     "name": "stdout",
     "output_type": "stream",
     "text": [
      "(400, 2) (400,)\n",
      "(100, 2) (100,)\n"
     ]
    }
   ],
   "source": [
    "# 75% data for training and 25% for testing\n",
    "split = int(0.8*data.shape[0])\n",
    "\n",
    "X_train = data[:split,:-1]\n",
    "Y_train = data[:split,-1]\n",
    "# labels of test dataset is class \n",
    "X_test = data[split:,:-1]\n",
    "Y_test = data[split:,-1]\n",
    "\n",
    "print X_train.shape,Y_train.shape\n",
    "print X_test.shape,Y_test.shape"
   ]
  },
  {
   "cell_type": "code",
   "execution_count": 181,
   "metadata": {
    "collapsed": false
   },
   "outputs": [],
   "source": [
    "# Logistic Regression \n",
    "\n",
    "def sigmoid(z):\n",
    "    return 1.0/(1.0+np.exp(-1.0*z))\n",
    "\n",
    "def hx(X,theta):\n",
    "    return sigmoid(X.dot(theta))\n",
    "\n",
    "def compute_loss_regression(X_train,Y_train,theta):\n",
    "    loss = 0.0\n",
    "    for ix in range(X_train.shape[0]):\n",
    "        hQ = hx(X_train[ix],theta)\n",
    "        loss += (-1.0*Y_train[ix]*np.log(hQ) - (1.0-Y_train[ix])*np.log(1-hQ))\n",
    "    return loss\n",
    "\n",
    "\n",
    "def compute_gradient_loss(X_train,Y_train,theta):\n",
    "    n = X_train.shape[0]\n",
    "    grads = np.zeros(theta.shape)\n",
    "\n",
    "    for ix in range(n):\n",
    "        gr = -1.0 * (Y_train[ix] - hx(X_train[ix],theta))*X_train[ix]\n",
    "        grads += gr.reshape(theta.shape)\n",
    "    return grads/n\n",
    "\n",
    "def update_weights(X_train,Y_train,theta,alpha=0.1):\n",
    "        grads = compute_gradient_loss(X_train,Y_train,theta)\n",
    "        theta = theta - alpha*grads\n",
    "        return theta"
   ]
  },
  {
   "cell_type": "code",
   "execution_count": 194,
   "metadata": {
    "collapsed": false
   },
   "outputs": [
    {
     "name": "stdout",
     "output_type": "stream",
     "text": [
      "[[ 0.45917037]\n",
      " [ 0.43715134]]\n",
      "(2, 1)\n",
      "(2,)\n",
      "(2, 1)\n",
      "(400, 2)\n"
     ]
    }
   ],
   "source": [
    "alpha = 0.1\n",
    "theta = np.random.random((X_train.shape[1],1))\n",
    "print theta\n",
    "print theta.shape\n",
    "print X_train[0].shape\n",
    "print theta.shape\n",
    "print X_train.shape"
   ]
  },
  {
   "cell_type": "code",
   "execution_count": 195,
   "metadata": {
    "collapsed": false
   },
   "outputs": [
    {
     "name": "stdout",
     "output_type": "stream",
     "text": [
      "Error at Epoch 0: [ 97.38328839]\n",
      "Error at Epoch 100: [ 48.32365504]\n",
      "Error at Epoch 200: [ 44.42587096]\n",
      "Error at Epoch 300: [ 43.00538016]\n"
     ]
    }
   ],
   "source": [
    "all_loss = []\n",
    "for ix in range(X_train.shape[0]):\n",
    "    loss = compute_loss_regression(X_train,Y_train,theta)\n",
    "    all_loss.append(loss)\n",
    "    if ix%100 == 0:\n",
    "        print \"Error at Epoch {0}:\".format(ix), loss\n",
    "    theta = update_weights(X_train,Y_train,theta,alpha)"
   ]
  },
  {
   "cell_type": "code",
   "execution_count": 196,
   "metadata": {
    "collapsed": false
   },
   "outputs": [
    {
     "data": {
      "image/png": "[encoded data removed]",
      "text/plain": [
       "<matplotlib.figure.Figure at 0x7fb9f96021d0>"
      ]
     },
     "metadata": {},
     "output_type": "display_data"
    }
   ],
   "source": [
    "plt.figure(0)\n",
    "plt.plot(all_loss)\n",
    "plt.show()"
   ]
  },
  {
   "cell_type": "code",
   "execution_count": 197,
   "metadata": {
    "collapsed": false
   },
   "outputs": [
    {
     "name": "stdout",
     "output_type": "stream",
     "text": [
      "[ 0.99999521] 1.0\n",
      "[ 0.51015673] 0.0\n",
      "[ 0.00333025] 0.0\n",
      "[ 0.99915272] 1.0\n",
      "[ 0.01800566] 0.0\n",
      "[ 0.0215975] 0.0\n",
      "[ 0.74119373] 0.0\n",
      "[ 0.00246104] 0.0\n",
      "[ 0.04413974] 0.0\n",
      "[ 0.99997066] 1.0\n",
      "[ 0.02370727] 0.0\n",
      "[ 0.99987083] 1.0\n",
      "[ 0.32163299] 0.0\n",
      "[ 0.99998655] 1.0\n",
      "[ 0.02319569] 0.0\n",
      "[ 0.96852757] 1.0\n",
      "[ 0.17560376] 0.0\n",
      "[ 0.99999193] 1.0\n",
      "[ 0.03688567] 0.0\n",
      "[ 0.00405549] 0.0\n",
      "[ 0.37784578] 0.0\n",
      "[ 0.99913248] 1.0\n",
      "[ 0.06240352] 0.0\n",
      "[ 0.99999377] 1.0\n",
      "[ 0.02445058] 0.0\n",
      "[ 0.99983015] 1.0\n",
      "[ 0.02519908] 0.0\n",
      "[ 0.06444718] 0.0\n",
      "[ 0.00854416] 0.0\n",
      "[ 0.99835488] 1.0\n",
      "[ 0.99978308] 1.0\n",
      "[ 0.9954871] 1.0\n",
      "[ 0.3298124] 0.0\n",
      "[ 0.99833223] 1.0\n",
      "[ 0.99996955] 1.0\n",
      "[ 0.99377403] 1.0\n",
      "[ 0.17484235] 0.0\n",
      "[ 0.00059774] 0.0\n",
      "[ 0.97835068] 1.0\n",
      "[ 0.18772821] 0.0\n",
      "[ 0.9982259] 1.0\n",
      "[ 0.97412766] 1.0\n",
      "[ 0.0237419] 0.0\n",
      "[ 0.99989705] 1.0\n",
      "[ 0.03073848] 0.0\n",
      "[ 0.05823282] 0.0\n",
      "[ 0.99996665] 1.0\n",
      "[ 0.99998038] 1.0\n",
      "[ 0.02395704] 0.0\n",
      "[ 0.99999762] 1.0\n"
     ]
    }
   ],
   "source": [
    "for ix in range(50):  \n",
    "    print hx(X_train[ix],theta),\n",
    "    print Y_train[ix]"
   ]
  },
  {
   "cell_type": "code",
   "execution_count": null,
   "metadata": {
    "collapsed": true
   },
   "outputs": [],
   "source": []
  }
 ],
 "metadata": {
  "kernelspec": {
   "display_name": "Python 2",
   "language": "python",
   "name": "python2"
  },
  "language_info": {
   "codemirror_mode": {
    "name": "ipython",
    "version": 2
   },
   "file_extension": ".py",
   "mimetype": "text/x-python",
   "name": "python",
   "nbconvert_exporter": "python",
   "pygments_lexer": "ipython2",
   "version": "2.7.13"
  }
 },
 "nbformat": 4,
 "nbformat_minor": 2
}
