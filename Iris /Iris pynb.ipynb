{
 "cells": [
  {
   "cell_type": "code",
   "execution_count": 6,
   "metadata": {
    "collapsed": false
   },
   "outputs": [],
   "source": [
    "import numpy as np\n",
    "import pandas as pd\n",
    "from matplotlib import pyplot as plt\n",
    "%matplotlib inline"
   ]
  },
  {
   "cell_type": "code",
   "execution_count": 9,
   "metadata": {
    "collapsed": false
   },
   "outputs": [
    {
     "name": "stdout",
     "output_type": "stream",
     "text": [
      "(150, 6)\n"
     ]
    }
   ],
   "source": [
    "ds =  pd.read_csv('./Iris.csv')\n",
    "ndarr = np.asarray(ds.values)\n",
    "print ndarr.shape"
   ]
  },
  {
   "cell_type": "code",
   "execution_count": 13,
   "metadata": {
    "collapsed": false
   },
   "outputs": [],
   "source": [
    "y_train = ndarr[:,-1]\n",
    "x_train = ndarr[:,1:5]"
   ]
  },
  {
   "cell_type": "code",
   "execution_count": 15,
   "metadata": {
    "collapsed": false
   },
   "outputs": [
    {
     "data": {
      "image/png": "[encoded data removed]",
      "text/plain": [
       "<matplotlib.figure.Figure at 0x7f854dfec810>"
      ]
     },
     "metadata": {},
     "output_type": "display_data"
    }
   ],
   "source": [
    "plt.figure(0)\n",
    "for ix in range(ndarr.shape[0]):\n",
    "    # red for setosa\n",
    "    if ndarr[ix,-1] == 'Iris-setosa':\n",
    "        plt.scatter(ndarr[ix,1],ndarr[ix,2],color='r')\n",
    "    # green for versicolor\n",
    "    elif ndarr[ix,-1] == 'Iris-versicolor':\n",
    "        plt.scatter(ndarr[ix,1],ndarr[ix,2],color='g')\n",
    "    # blue for -virginica\n",
    "    else:\n",
    "        plt.scatter(ndarr[ix,1],ndarr[ix,2],color='b')\n",
    "plt.show()"
   ]
  },
  {
   "cell_type": "code",
   "execution_count": 64,
   "metadata": {
    "collapsed": true
   },
   "outputs": [],
   "source": [
    "def distance(x1,x2):\n",
    "    return np.sqrt(((x1-x2)**2).sum())\n",
    "\n",
    "\n",
    "def knn(x_train,y_train,query,k=5):\n",
    "    dist_val = list()\n",
    "    \n",
    "    for ix in range(x_train.shape[0]):\n",
    "        dist_val.append([distance(query,x_train[ix,:]) ,y_train[ix]])\n",
    "    \n",
    "    sorted_dist = sorted(dist_val,key=lambda x:x[0])\n",
    "    top_k = np.asarray(sorted_dist[:k])\n",
    "    pred_arr = np.unique(top_k[:, 1], return_counts=True)\n",
    "    return pred_arr"
   ]
  },
  {
   "cell_type": "code",
   "execution_count": 73,
   "metadata": {
    "collapsed": false
   },
   "outputs": [
    {
     "name": "stdout",
     "output_type": "stream",
     "text": [
      "Code Output    : Iris-virginica\n",
      "Excepted Outpur: Iris-virginica\n"
     ]
    }
   ],
   "source": [
    "q = ndarr[100]\n",
    "res = knn(x_train[:,:2],y_train[:],q[1:3],k=5)\n",
    "print \"Code Output    :\" , res[0][res[1].argmax()]\n",
    "print \"Excepted Outpur:\", q[-1]"
   ]
  }
 ],
 "metadata": {
  "kernelspec": {
   "display_name": "Python [conda root]",
   "language": "python",
   "name": "conda-root-py"
  },
  "language_info": {
   "codemirror_mode": {
    "name": "ipython",
    "version": 2
   },
   "file_extension": ".py",
   "mimetype": "text/x-python",
   "name": "python",
   "nbconvert_exporter": "python",
   "pygments_lexer": "ipython2",
   "version": "2.7.12"
  }
 },
 "nbformat": 4,
 "nbformat_minor": 1
}
