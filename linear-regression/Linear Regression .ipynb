{
 "cells": [
  {
   "cell_type": "code",
   "execution_count": 3,
   "metadata": {
    "collapsed": true
   },
   "outputs": [],
   "source": [
    "import numpy as np\n",
    "from matplotlib import pyplot as plt\n",
    "%matplotlib inline"
   ]
  },
  {
   "cell_type": "code",
   "execution_count": 112,
   "metadata": {
    "collapsed": false
   },
   "outputs": [
    {
     "name": "stdout",
     "output_type": "stream",
     "text": [
      "(500, 2)\n"
     ]
    },
    {
     "data": {
      "image/png": "[encoded data removed]",
      "text/plain": [
       "<matplotlib.figure.Figure at 0x7eff06e9aed0>"
      ]
     },
     "metadata": {},
     "output_type": "display_data"
    },
    {
     "name": "stdout",
     "output_type": "stream",
     "text": [
      "(500,)\n",
      "(500,)\n"
     ]
    }
   ],
   "source": [
    "np.random.seed(3)\n",
    "\n",
    "mean = np.asarray([1.0,2.0])\n",
    "cov  = np.asarray([[1.0,0.95],[0.95,1.0]])\n",
    "\n",
    "ds = np.random.multivariate_normal(mean, cov, 500)\n",
    "print ds.shape\n",
    "\n",
    "plt.figure(0)\n",
    "for ix in range(ds.shape[0]):\n",
    "    plt.scatter(ds[ix,0],ds[ix,1], c='blue')\n",
    "plt.show()\n",
    "\n",
    "X = ds[:,0]\n",
    "Y = ds[:,1]\n",
    "print X.shape\n",
    "print Y.shape"
   ]
  },
  {
   "cell_type": "code",
   "execution_count": 113,
   "metadata": {
    "collapsed": false
   },
   "outputs": [],
   "source": [
    "# Linear Regression with gradient descent \n",
    "def compute_hypothesis(X,theta):\n",
    "    h = theta[1]*X + theta[0]\n",
    "    return h\n",
    "\n",
    "def compute_loss_regression(X,Y,theta):\n",
    "    loss = 0.0    \n",
    "    for x in range(X.shape[0]):\n",
    "        loss += (compute_hypothesis(X[ix],theta)-Y[ix])**2\n",
    "    return loss/X.shape[0]\n",
    "\n",
    "def compute_loss_gradient(X,Y,theta):\n",
    "    n = X.shape[0]\n",
    "    \n",
    "    grad0 = 0.0\n",
    "    for ix in range(n):\n",
    "        grad0 += (compute_hypothesis(X[ix],theta)-Y[ix])\n",
    "        \n",
    "    grad1 = 0.0\n",
    "    for ix in range(n):\n",
    "        grad1 += (compute_hypothesis(X[ix],theta)-Y[ix])*X[ix]\n",
    "    return [grad0/n,grad1/n]\n",
    "\n",
    "def update_theta(X,Y,theta,alpha=0.1):\n",
    "    n = X.shape[0]\n",
    "    grad = compute_loss_gradient(X,Y,theta)\n",
    "    new_theta = [(theta[0]-alpha*grad[0]),(theta[1]-alpha*grad[1])]\n",
    "    return new_theta"
   ]
  },
  {
   "cell_type": "code",
   "execution_count": 125,
   "metadata": {
    "collapsed": false
   },
   "outputs": [
    {
     "name": "stdout",
     "output_type": "stream",
     "text": [
      "[1, -5]\n"
     ]
    }
   ],
   "source": [
    "# Initialise Theta\n",
    "init_theta = [1,-5]\n",
    "print init_theta\n",
    "# Number of iteration for graident descent\n",
    "epoch = 1000\n",
    "# Learning Rate\n",
    "alpha = 0.1"
   ]
  },
  {
   "cell_type": "code",
   "execution_count": 126,
   "metadata": {
    "collapsed": false
   },
   "outputs": [
    {
     "data": {
      "image/png": "[encoded data removed]",
      "text/plain": [
       "<matplotlib.figure.Figure at 0x7eff06f53150>"
      ]
     },
     "metadata": {},
     "output_type": "display_data"
    }
   ],
   "source": [
    "plt.figure(0)\n",
    "plt.scatter(X[:],Y[:], color='red')\n",
    "pt1 = compute_hypothesis(-2, init_theta)\n",
    "pt2 = compute_hypothesis(4, init_theta)\n",
    "plt.plot([-2, 4], [pt1, pt2],color='blue')\n",
    "plt.show()"
   ]
  },
  {
   "cell_type": "code",
   "execution_count": 127,
   "metadata": {
    "collapsed": false
   },
   "outputs": [
    {
     "name": "stdout",
     "output_type": "stream",
     "text": [
      "At [1, -5] iteration 0 || loss of 8.54889212156\n",
      "At [1.1661206747070758, 0.89074369850370883] iteration 100 || loss of 0.14103904063\n",
      "At [1.1011373468080663, 0.93078487705426238] iteration 200 || loss of 0.0853326897131\n",
      "At [1.0994552521028169, 0.93182134373901337] iteration 300 || loss of 0.0840755858697\n",
      "At [1.0994117110486896, 0.93184817269928588] iteration 400 || loss of 0.0840431695722\n",
      "At [1.0994105839876576, 0.93184886716744386] iteration 500 || loss of 0.0840423305587\n",
      "At [1.099410554813661, 0.9318488851437654] iteration 600 || loss of 0.0840423088409\n",
      "At [1.0994105540584915, 0.93184888560908286] iteration 700 || loss of 0.0840423082787\n",
      "At [1.0994105540389438, 0.93184888562112778] iteration 800 || loss of 0.0840423082642\n",
      "At [1.0994105540384382, 0.93184888562143942] iteration 900 || loss of 0.0840423082638\n",
      "At [1.0994105540384271, 0.9318488856214463] iteration 1000 || loss of 0.0840423082638\n"
     ]
    },
    {
     "data": {
      "image/png": "[encoded data removed]",
      "text/plain": [
       "<matplotlib.figure.Figure at 0x7eff061000d0>"
      ]
     },
     "metadata": {},
     "output_type": "display_data"
    }
   ],
   "source": [
    "all_loss = []\n",
    "for iteration in range(epoch+1):\n",
    "    loss = compute_loss_regression(X,Y,init_theta)\n",
    "    all_loss.append(loss)\n",
    "    if(iteration%100==0):\n",
    "        print(\"At {} iteration {} || loss of {}\".format(init_theta,iteration,loss))\n",
    "    init_theta = update_theta(X,Y,init_theta,alpha)\n",
    "    \n",
    "plt.figure(0)\n",
    "plt.plot(all_loss)\n",
    "plt.show()"
   ]
  },
  {
   "cell_type": "code",
   "execution_count": 124,
   "metadata": {
    "collapsed": false
   },
   "outputs": [
    {
     "data": {
      "image/png": "[encoded data removed]",
      "text/plain": [
       "<matplotlib.figure.Figure at 0x7eff06871fd0>"
      ]
     },
     "metadata": {},
     "output_type": "display_data"
    }
   ],
   "source": [
    "plt.figure(0)\n",
    "plt.scatter(X[:],Y[:], color='red')\n",
    "pt1 = compute_hypothesis(-2, init_theta)\n",
    "pt2 = compute_hypothesis(4, init_theta)\n",
    "plt.plot([-2, 4], [pt1, pt2],color='blue')\n",
    "plt.show()"
   ]
  }
 ],
 "metadata": {
  "kernelspec": {
   "display_name": "Python 2",
   "language": "python",
   "name": "python2"
  },
  "language_info": {
   "codemirror_mode": {
    "name": "ipython",
    "version": 2
   },
   "file_extension": ".py",
   "mimetype": "text/x-python",
   "name": "python",
   "nbconvert_exporter": "python",
   "pygments_lexer": "ipython2",
   "version": "2.7.13"
  }
 },
 "nbformat": 4,
 "nbformat_minor": 2
}
